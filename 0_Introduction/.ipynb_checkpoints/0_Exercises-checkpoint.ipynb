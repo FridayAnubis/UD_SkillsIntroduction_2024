{
 "cells": [
  {
   "cell_type": "markdown",
   "id": "529d91ae",
   "metadata": {
    "tags": []
   },
   "source": [
    "# Exercise 00\n",
    "Write a bit of code that prints _Introduction to Programming_ to the console and execute the cell"
   ]
  },
  {
   "cell_type": "markdown",
   "id": "c7cbef5a",
   "metadata": {},
   "source": [
    "# Exercise 00\n",
    "Write a bit of code that prints _Introduction to Programming_ to the console and execute the cell"
   ]
  },
  {
   "cell_type": "code",
   "execution_count": null,
   "id": "e17d0efd",
   "metadata": {},
   "outputs": [
    {
     "name": "stdout",
     "output_type": "stream",
     "text": [
      "Introduction to Programming\n"
     ]
    }
   ],
   "source": [
    "print('Introduction to Programming')"
   ]
  },
  {
   "cell_type": "markdown",
   "id": "43cae97f",
   "metadata": {},
   "source": [
    "-----------------------------------------------------------------------------\n",
    "# Exercise 01\n",
    "Hello World is traditionally the first program anyone writes. It is\n",
    "very simple and the only thing it should do is print Hello World! to the\n",
    "terminal window.\n",
    "Create a file called HelloWorld.py and edit the contents so it prints Hello World! to the terminal and execute it using the command line."
   ]
  },
  {
   "cell_type": "markdown",
   "id": "f0472af5",
   "metadata": {},
   "source": [
    "-----------------------------------------------------------------------------\n",
    "# Exercise 02\n",
    "Write some code to print your name, email, and age on separate lines. For each element first assign it to a variable and use the variable to print. \n",
    "\n",
    "Bonus: try to create the print statement for all variable in one line of code. (hint: '\\n' is the character for a new line)"
   ]
  },
  {
   "cell_type": "code",
   "execution_count": null,
   "id": "99070ca5",
   "metadata": {},
   "outputs": [
    {
     "name": "stdout",
     "output_type": "stream",
     "text": [
      "Borui Zhou\n",
      "ucbvbz4@ucl.ac.uk\n",
      "23\n"
     ]
    }
   ],
   "source": [
    "myStatus = 'Borui Zhou\\nucbvbz4@ucl.ac.uk\\n23'\n",
    "print(myStatus)"
   ]
  },
  {
   "cell_type": "markdown",
   "id": "8d5afbea",
   "metadata": {},
   "source": [
    "-----------------------------------------------------------------------------\n",
    "# Exercise 03\n",
    "Print the numbers 0, 178, -21, 2938 divided by 49, 436 multiplied with 9948 and 12 to the power of 20\n",
    "\n",
    "(Hint: Look up the documentation of basic arithmetic operators)"
   ]
  },
  {
   "cell_type": "code",
   "execution_count": null,
   "id": "91773f7e",
   "metadata": {},
   "outputs": [
    {
     "name": "stdout",
     "output_type": "stream",
     "text": [
      "0\n",
      "178\n",
      "-21\n",
      "59.95918367346939\n",
      "4332968\n",
      "3833759992447475122176\n"
     ]
    }
   ],
   "source": [
    "print(0)\n",
    "print(178)\n",
    "print(-21)\n",
    "print(2938/49)\n",
    "print(436*9938)\n",
    "print(12**20)"
   ]
  },
  {
   "cell_type": "markdown",
   "id": "439bbcca",
   "metadata": {},
   "source": [
    "-----------------------------------------------------------------------------\n",
    "# Exercise 04\n",
    "Print sin(200), cos(100), tan($\\pi$/4)\n",
    "\n",
    "(Hint: Look up for how to use trigonometric function, and how to get the value of $\\pi$.)"
   ]
  },
  {
   "cell_type": "code",
   "execution_count": null,
   "id": "7fea0169",
   "metadata": {},
   "outputs": [
    {
     "name": "stdout",
     "output_type": "stream",
     "text": [
      "-0.8732972972139946\n",
      "0.8623188722876839\n",
      "0.9999999999999999\n"
     ]
    }
   ],
   "source": [
    "import math\n",
    "\n",
    "print(math.sin(200))\n",
    "print(math.cos(100))\n",
    "print(math.tan(math.pi/4))"
   ]
  },
  {
   "cell_type": "markdown",
   "id": "414063f1",
   "metadata": {},
   "source": [
    "-----------------------------------------------------------------------------\n",
    "# Exercise 05\n",
    "Write a program to read your first and last names from the console seperately, and then print them on the console together, separated by a space."
   ]
  },
  {
   "cell_type": "code",
   "execution_count": null,
   "id": "6be5311f",
   "metadata": {},
   "outputs": [
    {
     "name": "stdout",
     "output_type": "stream",
     "text": [
      "Borui Zhou\n"
     ]
    }
   ],
   "source": [
    "first_name = input(\"Enter your first name: \")\n",
    "last_name = input(\"Enter your last name: \")\n",
    "print(first_name + \" \" + last_name)"
   ]
  },
  {
   "cell_type": "markdown",
   "id": "c82949ad",
   "metadata": {},
   "source": [
    "-----------------------------------------------------------------------------\n",
    "# Exercise 06\n",
    "Write a program that determines whether a number given as user input is positive or negative\n",
    " \n",
    "You will need to convert the console input from a string to a number first!"
   ]
  },
  {
   "cell_type": "code",
   "execution_count": null,
   "id": "d4a8622f",
   "metadata": {},
   "outputs": [
    {
     "name": "stdout",
     "output_type": "stream",
     "text": [
      "The number is negative.\n"
     ]
    }
   ],
   "source": [
    "number = float(input(\"Enter a number: \"))\n",
    "if number > 0:\n",
    "    print(\"The number is positive.\")\n",
    "elif number < 0:\n",
    "    print(\"The number is negative.\")\n",
    "else:\n",
    "    print(\"The number is zero.\")"
   ]
  },
  {
   "cell_type": "markdown",
   "id": "b22a5c42",
   "metadata": {},
   "source": [
    "-----------------------------------------------------------------------------\n",
    "# Exercise 07\n",
    "Write a program that picks a random number between 1-20 and makes the user guess until they get the number right. Then print a congratulations message\n",
    "- (Find out yourself how to generate a random integer)\n",
    "- Bonus: make the user choose the range within which they have to guess\n",
    "- Bonus: keep track of how many guesses were made and print this at the end"
   ]
  },
  {
   "cell_type": "code",
   "execution_count": null,
   "id": "200a4a3a",
   "metadata": {},
   "outputs": [
    {
     "name": "stdout",
     "output_type": "stream",
     "text": [
      "Too high!\n",
      "Too low!\n",
      "Too high!\n",
      "Too high!\n",
      "Too low!\n",
      "Congratulations! You guessed the number in 6 attempts.\n"
     ]
    }
   ],
   "source": [
    "import random\n",
    "\n",
    "random_number = random.randint(1, 20)\n",
    "\n",
    "guess = None\n",
    "attempts = 0\n",
    "\n",
    "while guess != random_number:\n",
    "    guess = int(input(f\"Guess the number between 1 and 20: \"))\n",
    "    attempts += 1\n",
    "    if guess < random_number:\n",
    "        print(\"Too low!\")\n",
    "    elif guess > random_number:\n",
    "        print(\"Too high!\")\n",
    "\n",
    "print(f\"Congratulations! You guessed the number in {attempts} attempts.\")"
   ]
  },
  {
   "cell_type": "markdown",
   "id": "e96ecb57",
   "metadata": {},
   "source": [
    "-----------------------------------------------------------------------------\n",
    "# Exercise 08\n",
    "Ask a sentence as input, then print the words in alphabetical order.\n",
    "Hint: look up how to split up a string"
   ]
  },
  {
   "cell_type": "code",
   "execution_count": null,
   "id": "cad99b1a",
   "metadata": {},
   "outputs": [
    {
     "name": "stdout",
     "output_type": "stream",
     "text": [
      "Ask a alphabetical as in input, order. print sentence the then words\n"
     ]
    }
   ],
   "source": [
    "sentence = input(\"Enter a sentence: \")\n",
    "words = sentence.split()\n",
    "words.sort()\n",
    "print(\" \".join(words))"
   ]
  },
  {
   "cell_type": "markdown",
   "id": "4b2db68d",
   "metadata": {},
   "source": [
    "-----------------------------------------------------------------------------\n",
    "# Exercise 09\n",
    "Write a program using for loops to print a christmas tree of x lines high\n",
    "specified by the user.\n",
    "(use for loops)\n",
    "so for instance, a chrismas tree of 4 high should looks like this:\n",
    "\n",
    "```\n",
    "\n",
    "    *\n",
    "   ***\n",
    "  *****\n",
    " *******\n",
    "    |\n",
    "\n",
    "```\n",
    "\n",
    "hint: first combine strings into a variable before printing"
   ]
  },
  {
   "cell_type": "code",
   "execution_count": null,
   "id": "ac81790d",
   "metadata": {},
   "outputs": [
    {
     "name": "stdout",
     "output_type": "stream",
     "text": [
      "     *\n",
      "    ***\n",
      "   *****\n",
      "  *******\n",
      " *********\n",
      "***********\n",
      "     |\n"
     ]
    }
   ],
   "source": [
    "try:\n",
    "    x = int(input(\"Enter the number of lines for the Christmas tree: \"))\n",
    "    \n",
    "    for i in range(x):\n",
    "        print(' ' * (x - i - 1) + '*' * (2 * i + 1))\n",
    "    print(' ' * (x - 1) + '|')\n",
    "\n",
    "#if the input is not an integer\n",
    "except ValueError:\n",
    "    print(\"Please enter an integer.\")"
   ]
  },
  {
   "cell_type": "markdown",
   "id": "63865fc3",
   "metadata": {},
   "source": [
    "-----------------------------------------------------------------------------\n",
    "# Exercise 10\n",
    "Write a piece of code that prints the first $n$ numbers of the padovan sequence"
   ]
  },
  {
   "cell_type": "code",
   "execution_count": null,
   "id": "ecb1fc60",
   "metadata": {},
   "outputs": [
    {
     "name": "stdout",
     "output_type": "stream",
     "text": [
      "1 1 1 2 2 3 4 5 7 9 12 16 21 28 37 49 65 86 114 151 "
     ]
    }
   ],
   "source": [
    "def padovan(n):\n",
    "    if n == 0 or n == 1 or n == 2:\n",
    "        return 1\n",
    "    else:\n",
    "        return padovan(n-2) + padovan(n-3)\n",
    "\n",
    "n = int(input(\"Enter the number of Padovan sequence numbers to print: \"))\n",
    "\n",
    "for i in range(n):\n",
    "    print(padovan(i),end=' ')"
   ]
  },
  {
   "cell_type": "code",
   "execution_count": null,
   "id": "98711beb",
   "metadata": {},
   "outputs": [],
   "source": []
  },
  {
   "cell_type": "markdown",
   "id": "63ad5023",
   "metadata": {},
   "source": [
    "-----------------------------------------------------------------------------\n",
    "# Exercise 01\n",
    "Hello World is traditionally the first program anyone writes. It is\n",
    "very simple and the only thing it should do is print Hello World! to the\n",
    "terminal window.\n",
    "Create a file called HelloWorld.py and edit the contents so it prints Hello World! to the terminal and execute it using the command line."
   ]
  },
  {
   "cell_type": "markdown",
   "id": "a4a7c4c2",
   "metadata": {},
   "source": [
    "-----------------------------------------------------------------------------\n",
    "# Exercise 02\n",
    "Write some code to print your name, email, and age on separate lines. For each element first assign it to a variable and use the variable to print. \n",
    "\n",
    "Bonus: try to create the print statement for all variable in one line of code. (hint: '\\n' is the character for a new line)"
   ]
  },
  {
   "cell_type": "code",
   "execution_count": null,
   "id": "fc8fface",
   "metadata": {},
   "outputs": [],
   "source": []
  },
  {
   "cell_type": "markdown",
   "id": "0dd1c1d1",
   "metadata": {},
   "source": [
    "-----------------------------------------------------------------------------\n",
    "# Exercise 03\n",
    "Print the numbers 0, 178, -21, 2938 divided by 49, 436 multiplied with 9948 and 12 to the power of 20\n",
    "\n",
    "(Hint: Look up the documentation of basic arithmetic operators)"
   ]
  },
  {
   "cell_type": "code",
   "execution_count": null,
   "id": "f3d5d009",
   "metadata": {},
   "outputs": [],
   "source": []
  },
  {
   "cell_type": "markdown",
   "id": "1f151455",
   "metadata": {},
   "source": [
    "-----------------------------------------------------------------------------\n",
    "# Exercise 04\n",
    "Print sin(200), cos(100), tan($\\pi$/4)\n",
    "\n",
    "(Hint: Look up for how to use trigonometric function, and how to get the value of $\\pi$.)"
   ]
  },
  {
   "cell_type": "code",
   "execution_count": null,
   "id": "d0e37690",
   "metadata": {},
   "outputs": [],
   "source": []
  },
  {
   "cell_type": "markdown",
   "id": "9d026820",
   "metadata": {},
   "source": [
    "-----------------------------------------------------------------------------\n",
    "# Exercise 05\n",
    "Write a program to read your first and last names from the console seperately, and then print them on the console together, separated by a space."
   ]
  },
  {
   "cell_type": "code",
   "execution_count": null,
   "id": "4c7217e0",
   "metadata": {},
   "outputs": [],
   "source": []
  },
  {
   "cell_type": "markdown",
   "id": "e83fa346",
   "metadata": {},
   "source": [
    "-----------------------------------------------------------------------------\n",
    "# Exercise 06\n",
    "Write a program that determines whether a number given as user input is positive or negative\n",
    " \n",
    "You will need to convert the console input from a string to a number first!"
   ]
  },
  {
   "cell_type": "code",
   "execution_count": null,
   "id": "ecd924c2",
   "metadata": {},
   "outputs": [],
   "source": []
  },
  {
   "cell_type": "markdown",
   "id": "2a192596",
   "metadata": {},
   "source": [
    "-----------------------------------------------------------------------------\n",
    "# Exercise 07\n",
    "Write a program that picks a random number between 1-20 and makes the user guess until they get the number right. Then print a congratulations message\n",
    "- (Find out yourself how to generate a random integer)\n",
    "- Bonus: make the user choose the range within which they have to guess\n",
    "- Bonus: keep track of how many guesses were made and print this at the end"
   ]
  },
  {
   "cell_type": "code",
   "execution_count": null,
   "id": "70358dd3",
   "metadata": {},
   "outputs": [],
   "source": []
  },
  {
   "cell_type": "markdown",
   "id": "d53b9c07",
   "metadata": {},
   "source": [
    "-----------------------------------------------------------------------------\n",
    "# Exercise 08\n",
    "Ask a sentence as input, then print the words in alphabetical order.\n",
    "Hint: look up how to split up a string"
   ]
  },
  {
   "cell_type": "code",
   "execution_count": null,
   "id": "b6524cf5",
   "metadata": {},
   "outputs": [],
   "source": []
  },
  {
   "cell_type": "markdown",
   "id": "09a7b060",
   "metadata": {},
   "source": [
    "-----------------------------------------------------------------------------\n",
    "# Exercise 09\n",
    "Write a program using for loops to print a christmas tree of x lines high\n",
    "specified by the user.\n",
    "(use for loops)\n",
    "so for instance, a chrismas tree of 4 high should looks like this:\n",
    "\n",
    "```\n",
    "\n",
    "    *\n",
    "   ***\n",
    "  *****\n",
    " *******\n",
    "    |\n",
    "\n",
    "```\n",
    "\n",
    "hint: first combine strings into a variable before printing"
   ]
  },
  {
   "cell_type": "code",
   "execution_count": null,
   "id": "5150f7a4",
   "metadata": {},
   "outputs": [],
   "source": []
  },
  {
   "cell_type": "markdown",
   "id": "07f67531",
   "metadata": {},
   "source": [
    "-----------------------------------------------------------------------------\n",
    "# Exercise 10\n",
    "Write a piece of code that prints the first $n$ numbers of the padovan sequence"
   ]
  },
  {
   "cell_type": "code",
   "execution_count": null,
   "id": "d301c61b",
   "metadata": {},
   "outputs": [],
   "source": []
  }
 ],
 "metadata": {
  "kernelspec": {
   "display_name": "Python 3 (ipykernel)",
   "language": "python",
   "name": "python3"
  },
  "language_info": {
   "codemirror_mode": {
    "name": "ipython",
    "version": 3
   },
   "file_extension": ".py",
   "mimetype": "text/x-python",
   "name": "python",
   "nbconvert_exporter": "python",
   "pygments_lexer": "ipython3",
   "version": "3.11.5"
  }
 },
 "nbformat": 4,
 "nbformat_minor": 5
}
