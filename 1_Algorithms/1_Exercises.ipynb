{
 "cells": [
  {
   "cell_type": "markdown",
   "id": "38e188a5",
   "metadata": {},
   "source": [
    "# Exercise 00\n",
    "Write a piece of code that allocates a list of 20 integers and initializes each element by its index multiplied by 5. Print the result."
   ]
  },
  {
   "cell_type": "code",
   "execution_count": 1,
   "id": "01aa4f35",
   "metadata": {},
   "outputs": [
    {
     "name": "stdout",
     "output_type": "stream",
     "text": [
      "[0, 5, 10, 15, 20, 25, 30, 35, 40, 45, 50, 55, 60, 65, 70, 75, 80, 85, 90, 95]\n"
     ]
    }
   ],
   "source": [
    "int_list = [i * 5 for i in range(20)]\n",
    "print(int_list)"
   ]
  },
  {
   "cell_type": "markdown",
   "id": "529d91ae",
   "metadata": {},
   "source": [
    "# Exercise 01\n",
    "Define a function that takes an integer as input, prints  all integers that it is divisable by, and returns the largest one."
   ]
  },
  {
   "cell_type": "code",
   "execution_count": 2,
   "id": "30e79132",
   "metadata": {},
   "outputs": [
    {
     "name": "stdout",
     "output_type": "stream",
     "text": [
      "Divisors of 20 are: [1, 2, 4, 5, 10, 20]\n",
      "Largest divisor of 20 is: 20\n"
     ]
    }
   ],
   "source": [
    "def largestDivisor(n):\n",
    "    divisors = [i for i in range(1, n + 1) if n % i == 0]\n",
    "    print(\"Divisors of\", n, \"are:\", divisors)\n",
    "    return max(divisors)\n",
    "\n",
    "n = input(\"Enter a number: \") #input\n",
    "\n",
    "print(\"Largest divisor of\", n, \"is:\", largestDivisor(int(n)))"
   ]
  },
  {
   "cell_type": "markdown",
   "id": "cfbe30d4",
   "metadata": {},
   "source": [
    "# Exercise 02\n",
    "- create a dictionary with 6 keys and values of your choice\n",
    "- write a function that takes a dictionary and a value as input and returns whether the value occurs as a key in the dictionary\n",
    "- write a function that takes a dictionary as input, and returns the dictionary but the keys are swapped with their values (resolve the issue if a value occurs twice!)"
   ]
  },
  {
   "cell_type": "code",
   "execution_count": 8,
   "id": "2123f1c6",
   "metadata": {},
   "outputs": [
    {
     "name": "stdout",
     "output_type": "stream",
     "text": [
      "False\n",
      "{1: 'a', 2: 'b', 3: 'c', 4: 'd', 5: 'e', 6: 'f'}\n"
     ]
    }
   ],
   "source": [
    "# Create dictionary\n",
    "sampleDict = {\n",
    "    'a': 1,\n",
    "    'b': 2,\n",
    "    'c': 3,\n",
    "    'd': 4,\n",
    "    'e': 5,\n",
    "    'f': 6\n",
    "}\n",
    "\n",
    "# Check if a value occurs as a key\n",
    "def isValueKey(d, value):\n",
    "    return value in d\n",
    "\n",
    "# Swap keys and values\n",
    "def swapKeysValues(d):\n",
    "    swapDict = {}\n",
    "    for key, value in d.items():\n",
    "        if value in swapDict:\n",
    "            raise ValueError(f\"Duplicate value found: {value}\")\n",
    "        swapDict[value] = key\n",
    "    return swapDict\n",
    "\n",
    "#Input key check\n",
    "sample = input(\"Enter a value to check if it is a key: \")\n",
    "\n",
    "print(isValueKey(sampleDict, sample))\n",
    "\n",
    "#Print swapped dictionary\n",
    "swappedDict = swapKeysValues(sampleDict)\n",
    "print(swappedDict)"
   ]
  },
  {
   "cell_type": "markdown",
   "id": "b4b4e426",
   "metadata": {},
   "source": [
    "# Exercise 03\n",
    "Define a function that creates a dictionary of the first n fibonacci numbers as values paired with their indices as keys. "
   ]
  },
  {
   "cell_type": "code",
   "execution_count": 11,
   "id": "7845b5a4",
   "metadata": {},
   "outputs": [
    {
     "name": "stdout",
     "output_type": "stream",
     "text": [
      "{0: 0, 1: 1, 2: 1, 3: 2, 4: 3, 5: 5, 6: 8, 7: 13, 8: 21, 9: 34, 10: 55, 11: 89, 12: 144, 13: 233, 14: 377, 15: 610, 16: 987, 17: 1597, 18: 2584, 19: 4181}\n"
     ]
    }
   ],
   "source": [
    "def fibonacciDict(n):\n",
    "    fibDict = {}\n",
    "    a, b = 0, 1\n",
    "    for i in range(n):\n",
    "        fibDict[i] = a\n",
    "        a, b = b, a + b\n",
    "    return fibDict\n",
    "\n",
    "#Input check\n",
    "try:\n",
    "    n = int(input(\"Enter a number: \"))\n",
    "except ValueError:\n",
    "    print(\"Invalid input\")\n",
    "    exit()\n",
    "\n",
    "fibDict = fibonacciDict(n)\n",
    "print(fibDict)"
   ]
  }
 ],
 "metadata": {
  "kernelspec": {
   "display_name": "Python 3",
   "language": "python",
   "name": "python3"
  },
  "language_info": {
   "codemirror_mode": {
    "name": "ipython",
    "version": 3
   },
   "file_extension": ".py",
   "mimetype": "text/x-python",
   "name": "python",
   "nbconvert_exporter": "python",
   "pygments_lexer": "ipython3",
   "version": "3.8.10"
  }
 },
 "nbformat": 4,
 "nbformat_minor": 5
}
